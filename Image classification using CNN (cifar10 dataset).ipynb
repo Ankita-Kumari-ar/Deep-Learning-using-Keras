{
 "cells": [
  {
   "cell_type": "markdown",
   "id": "35498c0a",
   "metadata": {},
   "source": [
    "# Image classification  on cifar10 dataset using CNN"
   ]
  },
  {
   "cell_type": "code",
   "execution_count": 1,
   "id": "ab8f533d",
   "metadata": {},
   "outputs": [],
   "source": [
    "import keras"
   ]
  },
  {
   "cell_type": "code",
   "execution_count": 2,
   "id": "73d4d124",
   "metadata": {},
   "outputs": [],
   "source": [
    "from keras.datasets import cifar10"
   ]
  },
  {
   "cell_type": "code",
   "execution_count": 3,
   "id": "e0b9d823",
   "metadata": {},
   "outputs": [],
   "source": [
    "from keras.models import Sequential\n",
    "from keras.layers import Dense, Flatten\n",
    "from keras.utils import to_categorical"
   ]
  },
  {
   "cell_type": "code",
   "execution_count": 4,
   "id": "ba0dc495",
   "metadata": {},
   "outputs": [],
   "source": [
    "from keras.layers.convolutional import Conv2D, MaxPooling2D"
   ]
  },
  {
   "cell_type": "code",
   "execution_count": 5,
   "id": "b04f257a",
   "metadata": {},
   "outputs": [],
   "source": [
    "import matplotlib.pyplot as plt"
   ]
  },
  {
   "cell_type": "code",
   "execution_count": 6,
   "id": "aa50eed3",
   "metadata": {},
   "outputs": [],
   "source": [
    "import numpy as np"
   ]
  },
  {
   "cell_type": "code",
   "execution_count": 7,
   "id": "b7d7dc6f",
   "metadata": {},
   "outputs": [],
   "source": [
    "(X_train,y_train), (X_test,y_test)=cifar10.load_data()"
   ]
  },
  {
   "cell_type": "code",
   "execution_count": 8,
   "id": "7337994d",
   "metadata": {},
   "outputs": [
    {
     "data": {
      "text/plain": [
       "(50000, 32, 32, 3)"
      ]
     },
     "execution_count": 8,
     "metadata": {},
     "output_type": "execute_result"
    }
   ],
   "source": [
    "X_train.shape"
   ]
  },
  {
   "cell_type": "code",
   "execution_count": 9,
   "id": "3177403a",
   "metadata": {},
   "outputs": [
    {
     "data": {
      "text/plain": [
       "(50000, 1)"
      ]
     },
     "execution_count": 9,
     "metadata": {},
     "output_type": "execute_result"
    }
   ],
   "source": [
    "y_train.shape"
   ]
  },
  {
   "cell_type": "code",
   "execution_count": 10,
   "id": "6cf16f14",
   "metadata": {},
   "outputs": [
    {
     "data": {
      "text/plain": [
       "array([[6],\n",
       "       [9],\n",
       "       [9],\n",
       "       ...,\n",
       "       [9],\n",
       "       [1],\n",
       "       [1]], dtype=uint8)"
      ]
     },
     "execution_count": 10,
     "metadata": {},
     "output_type": "execute_result"
    }
   ],
   "source": [
    "y_train"
   ]
  },
  {
   "cell_type": "code",
   "execution_count": 11,
   "id": "94bcf61d",
   "metadata": {},
   "outputs": [],
   "source": [
    "y_train=y_train.reshape(-1,)"
   ]
  },
  {
   "cell_type": "code",
   "execution_count": 12,
   "id": "b5687e9e",
   "metadata": {},
   "outputs": [
    {
     "data": {
      "text/plain": [
       "(50000,)"
      ]
     },
     "execution_count": 12,
     "metadata": {},
     "output_type": "execute_result"
    }
   ],
   "source": [
    "y_train.shape"
   ]
  },
  {
   "cell_type": "code",
   "execution_count": 13,
   "id": "8eab6cda",
   "metadata": {},
   "outputs": [
    {
     "data": {
      "text/plain": [
       "array([6, 9, 9, ..., 9, 1, 1], dtype=uint8)"
      ]
     },
     "execution_count": 13,
     "metadata": {},
     "output_type": "execute_result"
    }
   ],
   "source": [
    "y_train"
   ]
  },
  {
   "cell_type": "code",
   "execution_count": 14,
   "id": "28a84999",
   "metadata": {
    "scrolled": true
   },
   "outputs": [
    {
     "data": {
      "text/plain": [
       "<matplotlib.image.AxesImage at 0x290aecc10a0>"
      ]
     },
     "execution_count": 14,
     "metadata": {},
     "output_type": "execute_result"
    },
    {
     "data": {
      "image/png": "[encoded data removed]",
      "text/plain": [
       "<Figure size 1080x144 with 1 Axes>"
      ]
     },
     "metadata": {
      "needs_background": "light"
     },
     "output_type": "display_data"
    }
   ],
   "source": [
    "plt.figure(figsize=(15,2))\n",
    "plt.imshow(X_train[1])"
   ]
  },
  {
   "cell_type": "code",
   "execution_count": 15,
   "id": "efb6fc47",
   "metadata": {},
   "outputs": [],
   "source": [
    "X_train=X_train.astype('float32')\n",
    "X_test=X_test.astype('float32')"
   ]
  },
  {
   "cell_type": "code",
   "execution_count": 16,
   "id": "22b67d33",
   "metadata": {},
   "outputs": [],
   "source": [
    "#since pixel values can range from 0 to 255, let's normalize the vectors to be between 0 and 1\n",
    "X_train=X_train/255\n",
    "X_test=X_test/255"
   ]
  },
  {
   "cell_type": "code",
   "execution_count": 17,
   "id": "2af0d562",
   "metadata": {},
   "outputs": [],
   "source": [
    "# one hot encode outputs\n",
    "y_train=to_categorical(y_train)\n",
    "y_test=to_categorical(y_test)"
   ]
  },
  {
   "cell_type": "code",
   "execution_count": 18,
   "id": "b66a837e",
   "metadata": {},
   "outputs": [],
   "source": [
    "#finding number of target classes\n",
    "num_classes=y_test.shape[1]"
   ]
  },
  {
   "cell_type": "code",
   "execution_count": 19,
   "id": "ea9808f8",
   "metadata": {},
   "outputs": [
    {
     "data": {
      "text/plain": [
       "10"
      ]
     },
     "execution_count": 19,
     "metadata": {},
     "output_type": "execute_result"
    }
   ],
   "source": [
    "num_classes"
   ]
  },
  {
   "cell_type": "code",
   "execution_count": 20,
   "id": "62fdd018",
   "metadata": {},
   "outputs": [],
   "source": [
    "#defining the cnn model\n",
    "def convolutional_model():\n",
    "    model=Sequential()\n",
    "    model.add(Conv2D(32,(5,5), strides=(1,1), activation=\"relu\", input_shape=(32,32,3)))\n",
    "    model.add(MaxPooling2D(pool_size=(2,2), strides=(2,2)))\n",
    "    model.add(Conv2D(16, (3,3), activation=\"relu\"))\n",
    "    model.add(MaxPooling2D(pool_size=(2,2), strides=(2,2)))\n",
    "    model.add(Flatten())\n",
    "    \n",
    "    model.add(Dense(70,activation=\"relu\"))\n",
    "    model.add(Dense(num_classes, activation=\"softmax\"))\n",
    "    \n",
    "    model.compile(optimizer=\"adam\", loss=\"categorical_crossentropy\", metrics=[\"accuracy\"])\n",
    "    \n",
    "    return model"
   ]
  },
  {
   "cell_type": "code",
   "execution_count": 21,
   "id": "97c426c3",
   "metadata": {},
   "outputs": [],
   "source": [
    "#buliding a cnn model\n",
    "model=convolutional_model()"
   ]
  },
  {
   "cell_type": "code",
   "execution_count": 22,
   "id": "4d747d93",
   "metadata": {},
   "outputs": [
    {
     "name": "stdout",
     "output_type": "stream",
     "text": [
      "Epoch 1/10\n",
      "1563/1563 - 42s - loss: 1.5748 - accuracy: 0.4287 - val_loss: 1.3134 - val_accuracy: 0.5316\n",
      "Epoch 2/10\n",
      "1563/1563 - 41s - loss: 1.2457 - accuracy: 0.5579 - val_loss: 1.1649 - val_accuracy: 0.5918\n",
      "Epoch 3/10\n",
      "1563/1563 - 41s - loss: 1.1115 - accuracy: 0.6100 - val_loss: 1.1171 - val_accuracy: 0.6133\n",
      "Epoch 4/10\n",
      "1563/1563 - 41s - loss: 1.0300 - accuracy: 0.6383 - val_loss: 1.0913 - val_accuracy: 0.6244\n",
      "Epoch 5/10\n",
      "1563/1563 - 41s - loss: 0.9674 - accuracy: 0.6596 - val_loss: 1.0440 - val_accuracy: 0.6363\n",
      "Epoch 6/10\n",
      "1563/1563 - 42s - loss: 0.9195 - accuracy: 0.6764 - val_loss: 1.0157 - val_accuracy: 0.6514\n",
      "Epoch 7/10\n",
      "1563/1563 - 42s - loss: 0.8837 - accuracy: 0.6914 - val_loss: 1.0078 - val_accuracy: 0.6550\n",
      "Epoch 8/10\n",
      "1563/1563 - 43s - loss: 0.8452 - accuracy: 0.7037 - val_loss: 0.9950 - val_accuracy: 0.6609\n",
      "Epoch 9/10\n",
      "1563/1563 - 63s - loss: 0.8152 - accuracy: 0.7135 - val_loss: 0.9922 - val_accuracy: 0.6591\n",
      "Epoch 10/10\n",
      "1563/1563 - 44s - loss: 0.7877 - accuracy: 0.7223 - val_loss: 0.9986 - val_accuracy: 0.6634\n"
     ]
    },
    {
     "data": {
      "text/plain": [
       "<tensorflow.python.keras.callbacks.History at 0x290a5db58b0>"
      ]
     },
     "execution_count": 22,
     "metadata": {},
     "output_type": "execute_result"
    }
   ],
   "source": [
    "#fitting the cnn model\n",
    "model.fit(X_train,y_train, validation_data=(X_test,y_test), epochs=10, verbose=2)"
   ]
  },
  {
   "cell_type": "code",
   "execution_count": 23,
   "id": "5856bcf4",
   "metadata": {},
   "outputs": [],
   "source": [
    "scores=model.evaluate(X_test,y_test, verbose=0)\n",
    "accuracy=scores[1]\n",
    "error=1-accuracy\n"
   ]
  },
  {
   "cell_type": "code",
   "execution_count": 24,
   "id": "b6074dde",
   "metadata": {},
   "outputs": [
    {
     "name": "stdout",
     "output_type": "stream",
     "text": [
      "accuracy:0.6633999943733215 \n",
      " error:0.33660000562667847\n"
     ]
    }
   ],
   "source": [
    "print(\"accuracy:{} \\n error:{}\".format(accuracy,error))"
   ]
  },
  {
   "cell_type": "code",
   "execution_count": 40,
   "id": "c6c810e0",
   "metadata": {},
   "outputs": [],
   "source": [
    "#finding the predicted output for X_train dataset\n",
    "y_pred=model.predict(X_test)"
   ]
  },
  {
   "cell_type": "code",
   "execution_count": 41,
   "id": "fab51669",
   "metadata": {},
   "outputs": [
    {
     "data": {
      "text/plain": [
       "array([[9.55117517e-04, 2.00467557e-03, 1.29180765e-02, ...,\n",
       "        1.09175674e-03, 1.69470478e-02, 1.41171011e-04],\n",
       "       [1.33318216e-01, 4.93669868e-01, 2.94314494e-04, ...,\n",
       "        1.00713960e-05, 1.48446262e-01, 2.23288208e-01],\n",
       "       [2.01590776e-01, 8.14777762e-02, 5.72009198e-03, ...,\n",
       "        1.98434549e-03, 6.49978876e-01, 3.59236822e-02],\n",
       "       ...,\n",
       "       [7.56805472e-04, 2.88529427e-05, 3.59494686e-02, ...,\n",
       "        3.09930765e-03, 3.34385404e-05, 2.56642816e-04],\n",
       "       [1.91030651e-01, 1.84732780e-01, 1.79157089e-02, ...,\n",
       "        2.47368379e-03, 1.21347397e-03, 3.13787896e-05],\n",
       "       [3.90054902e-06, 1.05144274e-04, 1.63961900e-04, ...,\n",
       "        9.92683709e-01, 3.81618378e-07, 2.17470097e-05]], dtype=float32)"
      ]
     },
     "execution_count": 41,
     "metadata": {},
     "output_type": "execute_result"
    }
   ],
   "source": [
    "y_pred"
   ]
  },
  {
   "cell_type": "code",
   "execution_count": 42,
   "id": "63ee24ae",
   "metadata": {},
   "outputs": [
    {
     "data": {
      "text/plain": [
       "(10000, 10)"
      ]
     },
     "execution_count": 42,
     "metadata": {},
     "output_type": "execute_result"
    }
   ],
   "source": [
    "y_pred.shape"
   ]
  },
  {
   "cell_type": "code",
   "execution_count": 43,
   "id": "9b4bb24a",
   "metadata": {},
   "outputs": [],
   "source": [
    "#representing the predicted output as well as y_test values in decimal form\n",
    "y_pred_decimal=np.argmax(y_pred, axis=1)\n",
    "y_test_decimal=np.argmax(y_test, axis=1)"
   ]
  },
  {
   "cell_type": "code",
   "execution_count": 44,
   "id": "e2a0675c",
   "metadata": {},
   "outputs": [
    {
     "data": {
      "text/plain": [
       "array([3, 1, 8, ..., 5, 4, 7], dtype=int64)"
      ]
     },
     "execution_count": 44,
     "metadata": {},
     "output_type": "execute_result"
    }
   ],
   "source": [
    "y_pred_decimal"
   ]
  },
  {
   "cell_type": "code",
   "execution_count": 80,
   "id": "bf101643",
   "metadata": {},
   "outputs": [
    {
     "data": {
      "text/plain": [
       "array([3, 8, 8, ..., 5, 1, 7], dtype=int64)"
      ]
     },
     "execution_count": 80,
     "metadata": {},
     "output_type": "execute_result"
    }
   ],
   "source": [
    "y_test_decimal"
   ]
  },
  {
   "cell_type": "code",
   "execution_count": 45,
   "id": "e4830806",
   "metadata": {},
   "outputs": [
    {
     "data": {
      "text/plain": [
       "numpy.ndarray"
      ]
     },
     "execution_count": 45,
     "metadata": {},
     "output_type": "execute_result"
    }
   ],
   "source": [
    "type(y_pred_decimal)"
   ]
  },
  {
   "cell_type": "code",
   "execution_count": 46,
   "id": "ae71e7fe",
   "metadata": {},
   "outputs": [
    {
     "data": {
      "text/plain": [
       "numpy.ndarray"
      ]
     },
     "execution_count": 46,
     "metadata": {},
     "output_type": "execute_result"
    }
   ],
   "source": [
    "type(y_test_decimal)"
   ]
  },
  {
   "cell_type": "code",
   "execution_count": 47,
   "id": "fe06a218",
   "metadata": {},
   "outputs": [
    {
     "data": {
      "text/plain": [
       "(10000,)"
      ]
     },
     "execution_count": 47,
     "metadata": {},
     "output_type": "execute_result"
    }
   ],
   "source": [
    "y_pred_decimal.shape"
   ]
  },
  {
   "cell_type": "code",
   "execution_count": 48,
   "id": "2e5f3809",
   "metadata": {},
   "outputs": [
    {
     "data": {
      "text/plain": [
       "(10000,)"
      ]
     },
     "execution_count": 48,
     "metadata": {},
     "output_type": "execute_result"
    }
   ],
   "source": [
    "y_test_decimal.shape"
   ]
  },
  {
   "cell_type": "code",
   "execution_count": 49,
   "id": "741070a9",
   "metadata": {},
   "outputs": [],
   "source": [
    "#finding the number of correct predictions and number of incorrect predictions\n",
    "correct_predictions=(y_pred_decimal==y_test_decimal).sum()\n",
    "incorrect_predictions=(y_pred_decimal!=y_test_decimal).sum()"
   ]
  },
  {
   "cell_type": "code",
   "execution_count": 50,
   "id": "dd63b597",
   "metadata": {},
   "outputs": [
    {
     "data": {
      "text/plain": [
       "6634"
      ]
     },
     "execution_count": 50,
     "metadata": {},
     "output_type": "execute_result"
    }
   ],
   "source": [
    "correct_predictions"
   ]
  },
  {
   "cell_type": "code",
   "execution_count": 51,
   "id": "86fc9dca",
   "metadata": {},
   "outputs": [
    {
     "data": {
      "text/plain": [
       "3366"
      ]
     },
     "execution_count": 51,
     "metadata": {},
     "output_type": "execute_result"
    }
   ],
   "source": [
    "incorrect_predictions"
   ]
  },
  {
   "cell_type": "code",
   "execution_count": 52,
   "id": "1e2a25b1",
   "metadata": {},
   "outputs": [],
   "source": [
    "#finding the indices of incorrect as well as correct predictions\n",
    "indices_incorrect_pred=np.where(y_pred_decimal!=y_test_decimal)[0]\n",
    "indices_correct_pred=np.where(y_pred_decimal==y_test_decimal)[0]"
   ]
  },
  {
   "cell_type": "code",
   "execution_count": 53,
   "id": "db3bad72",
   "metadata": {},
   "outputs": [
    {
     "data": {
      "text/plain": [
       "array([   1,    4,    7, ..., 9994, 9996, 9998], dtype=int64)"
      ]
     },
     "execution_count": 53,
     "metadata": {},
     "output_type": "execute_result"
    }
   ],
   "source": [
    "indices_incorrect_pred"
   ]
  },
  {
   "cell_type": "code",
   "execution_count": 54,
   "id": "98e0227a",
   "metadata": {},
   "outputs": [
    {
     "data": {
      "text/plain": [
       "array([   0,    2,    3, ..., 9995, 9997, 9999], dtype=int64)"
      ]
     },
     "execution_count": 54,
     "metadata": {},
     "output_type": "execute_result"
    }
   ],
   "source": [
    "indices_correct_pred"
   ]
  },
  {
   "cell_type": "code",
   "execution_count": 66,
   "id": "5c6b61b4",
   "metadata": {},
   "outputs": [],
   "source": [
    "labels=['airplane','automobile','bird','cat', 'deer','dog','frog','horse','ship','truck']\n",
    "\n",
    "def show_img(data,index):\n",
    "    plt.figure(figsize=(14,2))\n",
    "    plt.imshow(data)\n",
    "    plt.xlabel(labels[index])\n",
    "    "
   ]
  },
  {
   "cell_type": "code",
   "execution_count": 76,
   "id": "d4ff90ff",
   "metadata": {},
   "outputs": [
    {
     "data": {
      "image/png": "[encoded data removed]",
      "text/plain": [
       "<Figure size 1008x144 with 1 Axes>"
      ]
     },
     "metadata": {
      "needs_background": "light"
     },
     "output_type": "display_data"
    }
   ],
   "source": [
    "#finding predicted label for the first incorrectly predicted image in X_test\n",
    "show_img(X_test[indices_incorrect_pred[0]],y_pred_decimal[indices_incorrect_pred[0]])"
   ]
  },
  {
   "cell_type": "code",
   "execution_count": 77,
   "id": "175dde3c",
   "metadata": {},
   "outputs": [
    {
     "data": {
      "image/png": "[encoded data removed]",
      "text/plain": [
       "<Figure size 1008x144 with 1 Axes>"
      ]
     },
     "metadata": {
      "needs_background": "light"
     },
     "output_type": "display_data"
    }
   ],
   "source": [
    "#finding correct label for the first incorrectly predicted image in X_test\n",
    "show_img(X_test[indices_incorrect_pred[0]],y_test_decimal[indices_incorrect_pred[0]])"
   ]
  },
  {
   "cell_type": "code",
   "execution_count": 78,
   "id": "7d4ea32e",
   "metadata": {},
   "outputs": [
    {
     "data": {
      "image/png": "[encoded data removed]",
      "text/plain": [
       "<Figure size 1008x144 with 1 Axes>"
      ]
     },
     "metadata": {
      "needs_background": "light"
     },
     "output_type": "display_data"
    }
   ],
   "source": [
    "#finding predicted label for the first correctly predicted image in X_test\n",
    "show_img(X_test[indices_correct_pred[0]],y_pred_decimal[indices_correct_pred[0]])"
   ]
  },
  {
   "cell_type": "code",
   "execution_count": 79,
   "id": "46b73adc",
   "metadata": {},
   "outputs": [
    {
     "data": {
      "image/png": "[encoded data removed]",
      "text/plain": [
       "<Figure size 1008x144 with 1 Axes>"
      ]
     },
     "metadata": {
      "needs_background": "light"
     },
     "output_type": "display_data"
    }
   ],
   "source": [
    "#finding correct label for the first incorrectly predicted image in X_test\n",
    "show_img(X_test[indices_correct_pred[0]],y_test_decimal[indices_correct_pred[0]])"
   ]
  },
  {
   "cell_type": "code",
   "execution_count": null,
   "id": "19f3e4d1",
   "metadata": {},
   "outputs": [],
   "source": []
  }
 ],
 "metadata": {
  "kernelspec": {
   "display_name": "Python 3",
   "language": "python",
   "name": "python3"
  },
  "language_info": {
   "codemirror_mode": {
    "name": "ipython",
    "version": 3
   },
   "file_extension": ".py",
   "mimetype": "text/x-python",
   "name": "python",
   "nbconvert_exporter": "python",
   "pygments_lexer": "ipython3",
   "version": "3.8.10"
  }
 },
 "nbformat": 4,
 "nbformat_minor": 5
}
