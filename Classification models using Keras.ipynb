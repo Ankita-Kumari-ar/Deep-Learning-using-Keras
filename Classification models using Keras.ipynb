{
 "cells": [
  {
   "cell_type": "markdown",
   "id": "1bf31802",
   "metadata": {},
   "source": [
    "# Classification Models Using Keras (conventional neural network or artificial neural network)"
   ]
  },
  {
   "cell_type": "markdown",
   "id": "af7dcdf3",
   "metadata": {},
   "source": [
    "## Objectives\n",
    "    Use of MNIST database for training various image processing systems.\n",
    "    Build a neural network.\n",
    "    train and test the network."
   ]
  },
  {
   "cell_type": "code",
   "execution_count": 1,
   "id": "0109b126",
   "metadata": {},
   "outputs": [],
   "source": [
    "import keras"
   ]
  },
  {
   "cell_type": "code",
   "execution_count": 2,
   "id": "c11ced4a",
   "metadata": {},
   "outputs": [],
   "source": [
    "from keras.models import Sequential\n",
    "from keras.layers import Dense\n",
    "from keras.datasets import mnist\n",
    "from keras.utils import to_categorical"
   ]
  },
  {
   "cell_type": "code",
   "execution_count": 3,
   "id": "ed793ea7",
   "metadata": {},
   "outputs": [],
   "source": [
    "import matplotlib.pyplot as plt"
   ]
  },
  {
   "cell_type": "code",
   "execution_count": 4,
   "id": "0383c6bf",
   "metadata": {},
   "outputs": [],
   "source": [
    "(X_train, y_train),(X_test, y_test)=mnist.load_data()"
   ]
  },
  {
   "cell_type": "code",
   "execution_count": 5,
   "id": "2157548d",
   "metadata": {},
   "outputs": [
    {
     "data": {
      "text/plain": [
       "(60000, 28, 28)"
      ]
     },
     "execution_count": 5,
     "metadata": {},
     "output_type": "execute_result"
    }
   ],
   "source": [
    "X_train.shape"
   ]
  },
  {
   "cell_type": "code",
   "execution_count": 6,
   "id": "8ff6edd1",
   "metadata": {},
   "outputs": [
    {
     "data": {
      "text/plain": [
       "array([[[0, 0, 0, ..., 0, 0, 0],\n",
       "        [0, 0, 0, ..., 0, 0, 0],\n",
       "        [0, 0, 0, ..., 0, 0, 0],\n",
       "        ...,\n",
       "        [0, 0, 0, ..., 0, 0, 0],\n",
       "        [0, 0, 0, ..., 0, 0, 0],\n",
       "        [0, 0, 0, ..., 0, 0, 0]],\n",
       "\n",
       "       [[0, 0, 0, ..., 0, 0, 0],\n",
       "        [0, 0, 0, ..., 0, 0, 0],\n",
       "        [0, 0, 0, ..., 0, 0, 0],\n",
       "        ...,\n",
       "        [0, 0, 0, ..., 0, 0, 0],\n",
       "        [0, 0, 0, ..., 0, 0, 0],\n",
       "        [0, 0, 0, ..., 0, 0, 0]],\n",
       "\n",
       "       [[0, 0, 0, ..., 0, 0, 0],\n",
       "        [0, 0, 0, ..., 0, 0, 0],\n",
       "        [0, 0, 0, ..., 0, 0, 0],\n",
       "        ...,\n",
       "        [0, 0, 0, ..., 0, 0, 0],\n",
       "        [0, 0, 0, ..., 0, 0, 0],\n",
       "        [0, 0, 0, ..., 0, 0, 0]],\n",
       "\n",
       "       ...,\n",
       "\n",
       "       [[0, 0, 0, ..., 0, 0, 0],\n",
       "        [0, 0, 0, ..., 0, 0, 0],\n",
       "        [0, 0, 0, ..., 0, 0, 0],\n",
       "        ...,\n",
       "        [0, 0, 0, ..., 0, 0, 0],\n",
       "        [0, 0, 0, ..., 0, 0, 0],\n",
       "        [0, 0, 0, ..., 0, 0, 0]],\n",
       "\n",
       "       [[0, 0, 0, ..., 0, 0, 0],\n",
       "        [0, 0, 0, ..., 0, 0, 0],\n",
       "        [0, 0, 0, ..., 0, 0, 0],\n",
       "        ...,\n",
       "        [0, 0, 0, ..., 0, 0, 0],\n",
       "        [0, 0, 0, ..., 0, 0, 0],\n",
       "        [0, 0, 0, ..., 0, 0, 0]],\n",
       "\n",
       "       [[0, 0, 0, ..., 0, 0, 0],\n",
       "        [0, 0, 0, ..., 0, 0, 0],\n",
       "        [0, 0, 0, ..., 0, 0, 0],\n",
       "        ...,\n",
       "        [0, 0, 0, ..., 0, 0, 0],\n",
       "        [0, 0, 0, ..., 0, 0, 0],\n",
       "        [0, 0, 0, ..., 0, 0, 0]]], dtype=uint8)"
      ]
     },
     "execution_count": 6,
     "metadata": {},
     "output_type": "execute_result"
    }
   ],
   "source": [
    "X_train"
   ]
  },
  {
   "cell_type": "code",
   "execution_count": 7,
   "id": "4aa0ef61",
   "metadata": {},
   "outputs": [
    {
     "data": {
      "text/plain": [
       "<matplotlib.image.AxesImage at 0x140e01393a0>"
      ]
     },
     "execution_count": 7,
     "metadata": {},
     "output_type": "execute_result"
    },
    {
     "data": {
      "image/png": "[encoded data removed]",
      "text/plain": [
       "<Figure size 432x288 with 1 Axes>"
      ]
     },
     "metadata": {
      "needs_background": "light"
     },
     "output_type": "display_data"
    }
   ],
   "source": [
    "plt.imshow(X_train[1])"
   ]
  },
  {
   "cell_type": "raw",
   "id": "e744d582",
   "metadata": {},
   "source": [
    "With conventional neural networks, we cannot feed in the image as input as it is.So, we need to flatten the images into one-dimensional vectors, each of size 1x28x28 = 1x784."
   ]
  },
  {
   "cell_type": "code",
   "execution_count": 8,
   "id": "ef317945",
   "metadata": {},
   "outputs": [],
   "source": [
    "#flatten images into one dimensional vector\n",
    "num_pixels=X_train.shape[1]* X_train.shape[2]"
   ]
  },
  {
   "cell_type": "code",
   "execution_count": 9,
   "id": "b804dbca",
   "metadata": {},
   "outputs": [
    {
     "data": {
      "text/plain": [
       "784"
      ]
     },
     "execution_count": 9,
     "metadata": {},
     "output_type": "execute_result"
    }
   ],
   "source": [
    "num_pixels"
   ]
  },
  {
   "cell_type": "code",
   "execution_count": 10,
   "id": "d70c225d",
   "metadata": {},
   "outputs": [],
   "source": [
    "X_train=X_train.reshape(X_train.shape[0],num_pixels).astype('float32')\n",
    "X_test=X_test.reshape(X_test.shape[0], num_pixels).astype('float32')"
   ]
  },
  {
   "cell_type": "code",
   "execution_count": 11,
   "id": "de504e01",
   "metadata": {},
   "outputs": [
    {
     "data": {
      "text/plain": [
       "array([[0., 0., 0., ..., 0., 0., 0.],\n",
       "       [0., 0., 0., ..., 0., 0., 0.],\n",
       "       [0., 0., 0., ..., 0., 0., 0.],\n",
       "       ...,\n",
       "       [0., 0., 0., ..., 0., 0., 0.],\n",
       "       [0., 0., 0., ..., 0., 0., 0.],\n",
       "       [0., 0., 0., ..., 0., 0., 0.]], dtype=float32)"
      ]
     },
     "execution_count": 11,
     "metadata": {},
     "output_type": "execute_result"
    }
   ],
   "source": [
    "X_train"
   ]
  },
  {
   "cell_type": "raw",
   "id": "0c1c36ea",
   "metadata": {},
   "source": [
    "Since pixel values can range from 0 to 255, let's normalize the vectors to be between 0 and 1."
   ]
  },
  {
   "cell_type": "code",
   "execution_count": 12,
   "id": "32b118d0",
   "metadata": {},
   "outputs": [],
   "source": [
    "#normalize inputs from 0-255 to 0-1\n",
    "X_train=X_train/255\n",
    "X_test=X_test/255"
   ]
  },
  {
   "cell_type": "code",
   "execution_count": 13,
   "id": "56e13711",
   "metadata": {},
   "outputs": [
    {
     "data": {
      "text/plain": [
       "(60000, 784)"
      ]
     },
     "execution_count": 13,
     "metadata": {},
     "output_type": "execute_result"
    }
   ],
   "source": [
    "X_train.shape"
   ]
  },
  {
   "cell_type": "code",
   "execution_count": 14,
   "id": "e21310ac",
   "metadata": {},
   "outputs": [
    {
     "data": {
      "text/plain": [
       "array([[0., 0., 0., ..., 0., 0., 0.],\n",
       "       [0., 0., 0., ..., 0., 0., 0.],\n",
       "       [0., 0., 0., ..., 0., 0., 0.],\n",
       "       ...,\n",
       "       [0., 0., 0., ..., 0., 0., 0.],\n",
       "       [0., 0., 0., ..., 0., 0., 0.],\n",
       "       [0., 0., 0., ..., 0., 0., 0.]], dtype=float32)"
      ]
     },
     "execution_count": 14,
     "metadata": {},
     "output_type": "execute_result"
    }
   ],
   "source": [
    "X_train"
   ]
  },
  {
   "cell_type": "code",
   "execution_count": 15,
   "id": "1167d170",
   "metadata": {},
   "outputs": [],
   "source": [
    "#one hot encode output\n",
    "y_train=to_categorical(y_train)\n",
    "y_test=to_categorical(y_test)"
   ]
  },
  {
   "cell_type": "code",
   "execution_count": 16,
   "id": "002e6248",
   "metadata": {},
   "outputs": [
    {
     "data": {
      "text/plain": [
       "(60000, 10)"
      ]
     },
     "execution_count": 16,
     "metadata": {},
     "output_type": "execute_result"
    }
   ],
   "source": [
    "y_train.shape"
   ]
  },
  {
   "cell_type": "code",
   "execution_count": 17,
   "id": "f4fdd707",
   "metadata": {},
   "outputs": [],
   "source": [
    "num_classes=y_train.shape[1]"
   ]
  },
  {
   "cell_type": "code",
   "execution_count": 18,
   "id": "35995398",
   "metadata": {},
   "outputs": [
    {
     "data": {
      "text/plain": [
       "10"
      ]
     },
     "execution_count": 18,
     "metadata": {},
     "output_type": "execute_result"
    }
   ],
   "source": [
    "num_classes"
   ]
  },
  {
   "cell_type": "code",
   "execution_count": 19,
   "id": "bf0629c6",
   "metadata": {},
   "outputs": [],
   "source": [
    "#define classification model\n",
    "def classification_model():\n",
    "    model=Sequential()\n",
    "    model.add(Dense(num_pixels, activation=\"relu\", input_shape=(num_pixels,)))\n",
    "    model.add(Dense(100, activation=\"relu\"))\n",
    "    model.add(Dense(num_classes, activation=\"softmax\"))\n",
    "    \n",
    "    #compile the model\n",
    "    model.compile(optimizer=\"adam\", loss=\"categorical_crossentropy\", metrics=[\"accuracy\"])\n",
    "    \n",
    "    return model"
   ]
  },
  {
   "cell_type": "code",
   "execution_count": 20,
   "id": "305f5077",
   "metadata": {},
   "outputs": [],
   "source": [
    "#build a model\n",
    "model=classification_model()"
   ]
  },
  {
   "cell_type": "code",
   "execution_count": 21,
   "id": "8e8a9ee3",
   "metadata": {},
   "outputs": [
    {
     "name": "stdout",
     "output_type": "stream",
     "text": [
      "Epoch 1/10\n",
      "1875/1875 - 16s - loss: 0.1889 - accuracy: 0.9436 - val_loss: 0.0999 - val_accuracy: 0.9694\n",
      "Epoch 2/10\n",
      "1875/1875 - 16s - loss: 0.0790 - accuracy: 0.9757 - val_loss: 0.0935 - val_accuracy: 0.9706\n",
      "Epoch 3/10\n",
      "1875/1875 - 15s - loss: 0.0529 - accuracy: 0.9833 - val_loss: 0.0760 - val_accuracy: 0.9779\n",
      "Epoch 4/10\n",
      "1875/1875 - 16s - loss: 0.0384 - accuracy: 0.9875 - val_loss: 0.0846 - val_accuracy: 0.9776\n",
      "Epoch 5/10\n",
      "1875/1875 - 16s - loss: 0.0323 - accuracy: 0.9891 - val_loss: 0.0737 - val_accuracy: 0.9783\n",
      "Epoch 6/10\n",
      "1875/1875 - 16s - loss: 0.0257 - accuracy: 0.9912 - val_loss: 0.0797 - val_accuracy: 0.9799\n",
      "Epoch 7/10\n",
      "1875/1875 - 16s - loss: 0.0203 - accuracy: 0.9935 - val_loss: 0.0813 - val_accuracy: 0.9805\n",
      "Epoch 8/10\n",
      "1875/1875 - 16s - loss: 0.0185 - accuracy: 0.9935 - val_loss: 0.0868 - val_accuracy: 0.9815\n",
      "Epoch 9/10\n",
      "1875/1875 - 16s - loss: 0.0185 - accuracy: 0.9941 - val_loss: 0.0981 - val_accuracy: 0.9775\n",
      "Epoch 10/10\n",
      "1875/1875 - 16s - loss: 0.0154 - accuracy: 0.9951 - val_loss: 0.1536 - val_accuracy: 0.9675\n"
     ]
    },
    {
     "data": {
      "text/plain": [
       "<tensorflow.python.keras.callbacks.History at 0x140dfd69a00>"
      ]
     },
     "execution_count": 21,
     "metadata": {},
     "output_type": "execute_result"
    }
   ],
   "source": [
    "#fit the model\n",
    "model.fit(X_train, y_train, validation_data=(X_test,y_test), epochs=10, verbose=2)"
   ]
  },
  {
   "cell_type": "code",
   "execution_count": 29,
   "id": "02f69820",
   "metadata": {},
   "outputs": [],
   "source": [
    "scores=model.evaluate(X_test, y_test, verbose=0)"
   ]
  },
  {
   "cell_type": "code",
   "execution_count": 30,
   "id": "578ac15d",
   "metadata": {},
   "outputs": [
    {
     "data": {
      "text/plain": [
       "[0.15361368656158447, 0.9674999713897705]"
      ]
     },
     "execution_count": 30,
     "metadata": {},
     "output_type": "execute_result"
    }
   ],
   "source": [
    "scores"
   ]
  },
  {
   "cell_type": "code",
   "execution_count": 31,
   "id": "c3cc3482",
   "metadata": {},
   "outputs": [],
   "source": [
    "accuracy=scores[1]\n",
    "error=1-accuracy"
   ]
  },
  {
   "cell_type": "code",
   "execution_count": 32,
   "id": "39a38668",
   "metadata": {},
   "outputs": [
    {
     "data": {
      "text/plain": [
       "0.9674999713897705"
      ]
     },
     "execution_count": 32,
     "metadata": {},
     "output_type": "execute_result"
    }
   ],
   "source": [
    "accuracy"
   ]
  },
  {
   "cell_type": "code",
   "execution_count": 33,
   "id": "3317dc85",
   "metadata": {
    "scrolled": true
   },
   "outputs": [
    {
     "data": {
      "text/plain": [
       "0.03250002861022949"
      ]
     },
     "execution_count": 33,
     "metadata": {},
     "output_type": "execute_result"
    }
   ],
   "source": [
    "error"
   ]
  },
  {
   "cell_type": "code",
   "execution_count": 34,
   "id": "46aa98c5",
   "metadata": {},
   "outputs": [],
   "source": [
    "y_pred=model.predict(X_test)"
   ]
  },
  {
   "cell_type": "code",
   "execution_count": 35,
   "id": "c86439d3",
   "metadata": {},
   "outputs": [
    {
     "data": {
      "text/plain": [
       "array([[6.07117221e-13, 6.08155123e-11, 4.00887171e-11, ...,\n",
       "        1.00000000e+00, 9.30736391e-12, 3.67976183e-09],\n",
       "       [9.27991001e-15, 9.10489652e-12, 1.00000000e+00, ...,\n",
       "        2.23413325e-20, 1.76270944e-16, 2.39050156e-20],\n",
       "       [2.10895768e-13, 9.99999881e-01, 1.81631182e-10, ...,\n",
       "        1.50184878e-10, 4.64491645e-09, 1.76509740e-09],\n",
       "       ...,\n",
       "       [4.24597693e-23, 7.98353950e-13, 1.61263730e-22, ...,\n",
       "        3.99133053e-11, 7.13885615e-16, 2.01367939e-07],\n",
       "       [5.38483080e-23, 2.28986584e-26, 1.65757315e-25, ...,\n",
       "        1.18269815e-20, 1.82733283e-19, 6.67797893e-22],\n",
       "       [3.08918742e-20, 1.03397507e-27, 2.22560825e-29, ...,\n",
       "        1.86437107e-32, 9.79435007e-25, 4.13885232e-21]], dtype=float32)"
      ]
     },
     "execution_count": 35,
     "metadata": {},
     "output_type": "execute_result"
    }
   ],
   "source": [
    "y_pred"
   ]
  },
  {
   "cell_type": "code",
   "execution_count": 36,
   "id": "eafab73f",
   "metadata": {},
   "outputs": [
    {
     "data": {
      "text/plain": [
       "array([[0., 0., 0., ..., 1., 0., 0.],\n",
       "       [0., 0., 1., ..., 0., 0., 0.],\n",
       "       [0., 1., 0., ..., 0., 0., 0.],\n",
       "       ...,\n",
       "       [0., 0., 0., ..., 0., 0., 0.],\n",
       "       [0., 0., 0., ..., 0., 0., 0.],\n",
       "       [0., 0., 0., ..., 0., 0., 0.]], dtype=float32)"
      ]
     },
     "execution_count": 36,
     "metadata": {},
     "output_type": "execute_result"
    }
   ],
   "source": [
    "y_test"
   ]
  },
  {
   "cell_type": "code",
   "execution_count": 37,
   "id": "1f708451",
   "metadata": {},
   "outputs": [],
   "source": [
    "import numpy as np"
   ]
  },
  {
   "cell_type": "code",
   "execution_count": 38,
   "id": "985bd805",
   "metadata": {},
   "outputs": [],
   "source": [
    "y_pred_decimal=np.argmax(y_pred,axis=1)"
   ]
  },
  {
   "cell_type": "code",
   "execution_count": 39,
   "id": "166bc8bf",
   "metadata": {},
   "outputs": [
    {
     "data": {
      "text/plain": [
       "array([7, 2, 1, ..., 4, 5, 6], dtype=int64)"
      ]
     },
     "execution_count": 39,
     "metadata": {},
     "output_type": "execute_result"
    }
   ],
   "source": [
    "#finding the pridicted output in decimal form\n",
    "y_pred_decimal"
   ]
  },
  {
   "cell_type": "code",
   "execution_count": 40,
   "id": "3bcf85b8",
   "metadata": {},
   "outputs": [
    {
     "data": {
      "text/plain": [
       "(10000,)"
      ]
     },
     "execution_count": 40,
     "metadata": {},
     "output_type": "execute_result"
    }
   ],
   "source": [
    "y_pred_decimal.shape"
   ]
  },
  {
   "cell_type": "code",
   "execution_count": 41,
   "id": "0643da36",
   "metadata": {},
   "outputs": [],
   "source": [
    "y_test_decimal=np.argmax(y_test, axis=1)"
   ]
  },
  {
   "cell_type": "code",
   "execution_count": 42,
   "id": "1423447b",
   "metadata": {},
   "outputs": [
    {
     "data": {
      "text/plain": [
       "array([7, 2, 1, ..., 4, 5, 6], dtype=int64)"
      ]
     },
     "execution_count": 42,
     "metadata": {},
     "output_type": "execute_result"
    }
   ],
   "source": [
    "#finding the actual output of X_test dataset in decimal form\n",
    "y_test_decimal"
   ]
  },
  {
   "cell_type": "code",
   "execution_count": 43,
   "id": "7b346291",
   "metadata": {},
   "outputs": [
    {
     "data": {
      "text/plain": [
       "9675"
      ]
     },
     "execution_count": 43,
     "metadata": {},
     "output_type": "execute_result"
    }
   ],
   "source": [
    "#finding total numbers of correct predictions\n",
    "correct_predictions=(y_pred_decimal==y_test_decimal).sum()\n",
    "correct_predictions"
   ]
  },
  {
   "cell_type": "code",
   "execution_count": 44,
   "id": "20497a63",
   "metadata": {},
   "outputs": [
    {
     "data": {
      "text/plain": [
       "325"
      ]
     },
     "execution_count": 44,
     "metadata": {},
     "output_type": "execute_result"
    }
   ],
   "source": [
    "#finding total numbers of incorrect predictions\n",
    "incorrect_predictions=(y_pred_decimal!=y_test_decimal).sum()\n",
    "incorrect_predictions"
   ]
  },
  {
   "cell_type": "code",
   "execution_count": 45,
   "id": "b591587c",
   "metadata": {},
   "outputs": [
    {
     "data": {
      "text/plain": [
       "array([   8,  115,  149,  241,  247,  266,  321,  326,  381,  391,  445,\n",
       "        447,  495,  572,  582,  619,  646,  707,  760,  761,  846,  864,\n",
       "        883,  936,  938,  944,  947, 1014, 1039, 1112, 1156, 1159, 1173,\n",
       "       1178, 1194, 1224, 1226, 1232, 1239, 1242, 1247, 1260, 1319, 1328,\n",
       "       1393, 1425, 1500, 1522, 1524, 1549, 1553, 1568, 1609, 1626, 1634,\n",
       "       1669, 1678, 1681, 1686, 1702, 1717, 1754, 1800, 1813, 1878, 1901,\n",
       "       1941, 1968, 1987, 2004, 2024, 2053, 2070, 2073, 2093, 2109, 2118,\n",
       "       2121, 2130, 2135, 2153, 2224, 2225, 2272, 2293, 2298, 2308, 2309,\n",
       "       2334, 2387, 2393, 2395, 2422, 2447, 2462, 2488, 2512, 2584, 2597,\n",
       "       2618, 2654, 2730, 2770, 2771, 2896, 2901, 2915, 2921, 2927, 2939,\n",
       "       2949, 2953, 3012, 3023, 3062, 3065, 3117, 3216, 3225, 3263, 3289,\n",
       "       3333, 3388, 3405, 3422, 3460, 3466, 3503, 3516, 3520, 3549, 3558,\n",
       "       3559, 3563, 3567, 3597, 3662, 3674, 3718, 3726, 3737, 3751, 3767,\n",
       "       3780, 3808, 3811, 3817, 3850, 3941, 3976, 3988, 3995, 4002, 4007,\n",
       "       4027, 4075, 4092, 4163, 4176, 4194, 4199, 4207, 4265, 4297, 4380,\n",
       "       4382, 4429, 4477, 4487, 4497, 4507, 4514, 4547, 4551, 4567, 4639,\n",
       "       4724, 4740, 4751, 4777, 4783, 4789, 4807, 4814, 4823, 4876, 4879,\n",
       "       4895, 4956, 4990, 5046, 5068, 5078, 5129, 5138, 5140, 5331, 5403,\n",
       "       5457, 5462, 5569, 5586, 5600, 5623, 5642, 5654, 5678, 5734, 5749,\n",
       "       5887, 5936, 5955, 5973, 6004, 6009, 6011, 6023, 6059, 6080, 6347,\n",
       "       6555, 6569, 6578, 6597, 6625, 6632, 6641, 6651, 6735, 6741, 6755,\n",
       "       6783, 6791, 6847, 7094, 7121, 7216, 7309, 7370, 7423, 7434, 7459,\n",
       "       7473, 7481, 7529, 7574, 7713, 7718, 7735, 7783, 7841, 7845, 7853,\n",
       "       7902, 7912, 7921, 7927, 8059, 8064, 8069, 8071, 8095, 8097, 8105,\n",
       "       8110, 8217, 8246, 8255, 8266, 8294, 8297, 8300, 8311, 8325, 8362,\n",
       "       8408, 8456, 8486, 8497, 8504, 8508, 8519, 8520, 8522, 8527, 8556,\n",
       "       8679, 8722, 8728, 8735, 8942, 9009, 9015, 9024, 9071, 9211, 9253,\n",
       "       9263, 9280, 9316, 9385, 9538, 9587, 9634, 9664, 9669, 9679, 9729,\n",
       "       9731, 9735, 9745, 9749, 9755, 9768, 9770, 9781, 9792, 9828, 9834,\n",
       "       9839, 9858, 9892, 9904, 9922, 9936], dtype=int64)"
      ]
     },
     "execution_count": 45,
     "metadata": {},
     "output_type": "execute_result"
    }
   ],
   "source": [
    "#finding indices of incorrect predctions\n",
    "pos_incorrect_pred=np.where(y_pred_decimal!=y_test_decimal)[0]\n",
    "pos_incorrect_pred"
   ]
  },
  {
   "cell_type": "code",
   "execution_count": 46,
   "id": "7847396d",
   "metadata": {},
   "outputs": [
    {
     "data": {
      "text/plain": [
       "(325,)"
      ]
     },
     "execution_count": 46,
     "metadata": {},
     "output_type": "execute_result"
    }
   ],
   "source": [
    "pos_incorrect_pred.shape"
   ]
  },
  {
   "cell_type": "code",
   "execution_count": 47,
   "id": "d74a75fe",
   "metadata": {},
   "outputs": [
    {
     "data": {
      "text/plain": [
       "(10000, 784)"
      ]
     },
     "execution_count": 47,
     "metadata": {},
     "output_type": "execute_result"
    }
   ],
   "source": [
    "X_test.shape"
   ]
  },
  {
   "cell_type": "code",
   "execution_count": 48,
   "id": "9742e946",
   "metadata": {},
   "outputs": [],
   "source": [
    "X_test=X_test.reshape(X_test.shape[0],28,28)"
   ]
  },
  {
   "cell_type": "code",
   "execution_count": 49,
   "id": "924f012d",
   "metadata": {},
   "outputs": [
    {
     "data": {
      "text/plain": [
       "<matplotlib.image.AxesImage at 0x140ece24070>"
      ]
     },
     "execution_count": 49,
     "metadata": {},
     "output_type": "execute_result"
    },
    {
     "data": {
      "image/png": "[encoded data removed]",
      "text/plain": [
       "<Figure size 432x288 with 1 Axes>"
      ]
     },
     "metadata": {
      "needs_background": "light"
     },
     "output_type": "display_data"
    }
   ],
   "source": [
    "plt.imshow(X_test[pos_incorrect_pred[0]])"
   ]
  },
  {
   "cell_type": "code",
   "execution_count": 50,
   "id": "98099d7d",
   "metadata": {},
   "outputs": [
    {
     "data": {
      "text/plain": [
       "6"
      ]
     },
     "execution_count": 50,
     "metadata": {},
     "output_type": "execute_result"
    }
   ],
   "source": [
    "y_pred_decimal[pos_incorrect_pred[0]]"
   ]
  },
  {
   "cell_type": "code",
   "execution_count": 51,
   "id": "fe806a50",
   "metadata": {},
   "outputs": [
    {
     "data": {
      "text/plain": [
       "5"
      ]
     },
     "execution_count": 51,
     "metadata": {},
     "output_type": "execute_result"
    }
   ],
   "source": [
    "y_test_decimal[pos_incorrect_pred[0]]"
   ]
  },
  {
   "cell_type": "code",
   "execution_count": 52,
   "id": "20fa6cc6",
   "metadata": {},
   "outputs": [
    {
     "data": {
      "text/plain": [
       "<matplotlib.image.AxesImage at 0x140ecf0bf70>"
      ]
     },
     "execution_count": 52,
     "metadata": {},
     "output_type": "execute_result"
    },
    {
     "data": {
      "image/png": "[encoded data removed]",
      "text/plain": [
       "<Figure size 432x288 with 1 Axes>"
      ]
     },
     "metadata": {
      "needs_background": "light"
     },
     "output_type": "display_data"
    }
   ],
   "source": [
    "plt.imshow(X_test[pos_incorrect_pred[1]])"
   ]
  },
  {
   "cell_type": "code",
   "execution_count": 54,
   "id": "780e7ee6",
   "metadata": {},
   "outputs": [
    {
     "data": {
      "text/plain": [
       "9"
      ]
     },
     "execution_count": 54,
     "metadata": {},
     "output_type": "execute_result"
    }
   ],
   "source": [
    "y_pred_decimal[pos_incorrect_pred[1]]"
   ]
  },
  {
   "cell_type": "code",
   "execution_count": 56,
   "id": "9d9244d9",
   "metadata": {},
   "outputs": [
    {
     "data": {
      "text/plain": [
       "4"
      ]
     },
     "execution_count": 56,
     "metadata": {},
     "output_type": "execute_result"
    }
   ],
   "source": [
    "y_test_decimal[pos_incorrect_pred[1]]"
   ]
  },
  {
   "cell_type": "code",
   "execution_count": 59,
   "id": "ff3a905c",
   "metadata": {},
   "outputs": [],
   "source": [
    "model.save(\"classification_model.h5\")"
   ]
  },
  {
   "cell_type": "code",
   "execution_count": 60,
   "id": "81b5e9ad",
   "metadata": {},
   "outputs": [],
   "source": [
    "#from keras.models import load_model"
   ]
  },
  {
   "cell_type": "code",
   "execution_count": 61,
   "id": "b709bf25",
   "metadata": {},
   "outputs": [],
   "source": [
    "#pretained_model=load_model(\"classification_model.h5\")"
   ]
  },
  {
   "cell_type": "code",
   "execution_count": null,
   "id": "14d43082",
   "metadata": {},
   "outputs": [],
   "source": []
  }
 ],
 "metadata": {
  "kernelspec": {
   "display_name": "Python 3",
   "language": "python",
   "name": "python3"
  },
  "language_info": {
   "codemirror_mode": {
    "name": "ipython",
    "version": 3
   },
   "file_extension": ".py",
   "mimetype": "text/x-python",
   "name": "python",
   "nbconvert_exporter": "python",
   "pygments_lexer": "ipython3",
   "version": "3.8.10"
  }
 },
 "nbformat": 4,
 "nbformat_minor": 5
}
